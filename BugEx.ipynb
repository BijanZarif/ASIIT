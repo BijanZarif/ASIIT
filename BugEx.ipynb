{
 "cells": [
  {
   "cell_type": "code",
   "execution_count": 43,
   "metadata": {
    "collapsed": true
   },
   "outputs": [],
   "source": [
    "%matplotlib inline\n",
    "import numpy as np\n",
    "from scipy.ndimage.measurements import label,find_objects,center_of_mass\n",
    "import PIVutils"
   ]
  },
  {
   "cell_type": "code",
   "execution_count": 44,
   "metadata": {
    "collapsed": false
   },
   "outputs": [],
   "source": [
    "S = np.loadtxt('BugData.csv', delimiter=',')"
   ]
  },
  {
   "cell_type": "code",
   "execution_count": 45,
   "metadata": {
    "collapsed": false
   },
   "outputs": [
    {
     "data": {
      "image/png": "[encoded data removed]",
      "text/plain": [
       "<matplotlib.figure.Figure at 0x10fed9c18>"
      ]
     },
     "metadata": {},
     "output_type": "display_data"
    }
   ],
   "source": [
    "[f, ax] = PIVutils.plotScalarField(S,bound=5)"
   ]
  },
  {
   "cell_type": "code",
   "execution_count": 46,
   "metadata": {
    "collapsed": false
   },
   "outputs": [],
   "source": [
    "Thresh = 35 "
   ]
  },
  {
   "cell_type": "code",
   "execution_count": 53,
   "metadata": {
    "collapsed": false
   },
   "outputs": [
    {
     "name": "stdout",
     "output_type": "stream",
     "text": [
      "There are  177  features identified\n",
      "A total of  13  are larger than the threshold size\n"
     ]
    }
   ],
   "source": [
    "uSize = S.shape\n",
    "    \n",
    "labeled_array, num_features = label(S)\n",
    "\n",
    "#print(np.unique(labeled_array))\n",
    "#print(np.unique(labeled_array[:,:,0]))\n",
    "#print(labeled_array.shape)\n",
    "\n",
    "print('There are ', num_features, ' features identified')\n",
    "\n",
    "if Thresh is not None:\n",
    "    loc = find_objects(labeled_array)\n",
    "    labeled_array_out = labeled_array.copy()\n",
    "\n",
    "    counts = np.bincount(labeled_array.ravel())\n",
    "\n",
    "    ind = np.where(counts>Thresh)[0][1:]\n",
    "    mask = np.in1d(labeled_array.ravel(), ind).reshape(labeled_array.shape)\n",
    "    labeled_array_out[~mask] = 0\n",
    "\n",
    "    [_, labeled_array_out] = np.unique(labeled_array_out,return_inverse=True)\n",
    "    labeled_array_out = labeled_array_out.reshape(labeled_array.shape)\n",
    "\n",
    "    num_features_out = len(ind)\n",
    "\n",
    "    print('A total of ', num_features_out, ' are larger than the threshold size')\n",
    "else:\n",
    "    labeled_array_out = labeled_array\n",
    "    num_features_out = num_features\n",
    "\n",
    "#a = labeled_array_out[:,:,535]\n",
    "#b = a.copy()\n",
    "#c = list(range(uSize[1]))\n",
    "#b[:,:] = list(range(uSize[1])))\n",
    "#for i in np.unique(a):\n",
    "    #print(np.unique(a)[15])\n",
    "    #print(a[a==i])\n",
    "\n",
    "#features_per_frame = np.zeros(uSize[2],dtype=int);\n",
    "#cent = [];\n",
    "#for i in range(uSize[2]):\n",
    "    #features_per_frame[i] = len(np.unique(labeled_array_out[:,:,i])[1:])\n",
    "cent = center_of_mass(S,labeled_array_out,np.unique(labeled_array_out)[1:])"
   ]
  },
  {
   "cell_type": "code",
   "execution_count": 54,
   "metadata": {
    "collapsed": false
   },
   "outputs": [
    {
     "data": {
      "text/plain": [
       "(696.28820197528614, 213.38909911471836)"
      ]
     },
     "execution_count": 54,
     "metadata": {},
     "output_type": "execute_result"
    }
   ],
   "source": [
    "cent[11]"
   ]
  },
  {
   "cell_type": "code",
   "execution_count": 55,
   "metadata": {
    "collapsed": false
   },
   "outputs": [
    {
     "data": {
      "text/plain": [
       "(123, 242)"
      ]
     },
     "execution_count": 55,
     "metadata": {},
     "output_type": "execute_result"
    }
   ],
   "source": [
    "S.shape    #Cent must be less than these numbers"
   ]
  },
  {
   "cell_type": "code",
   "execution_count": 56,
   "metadata": {
    "collapsed": false
   },
   "outputs": [
    {
     "data": {
      "text/plain": [
       "array([ 0,  1,  2,  3,  4,  5,  6,  7,  8,  9, 10, 11, 12, 13])"
      ]
     },
     "execution_count": 56,
     "metadata": {},
     "output_type": "execute_result"
    }
   ],
   "source": [
    "np.unique(labeled_array_out)"
   ]
  },
  {
   "cell_type": "code",
   "execution_count": 57,
   "metadata": {
    "collapsed": false
   },
   "outputs": [
    {
     "data": {
      "text/plain": [
       "13"
      ]
     },
     "execution_count": 57,
     "metadata": {},
     "output_type": "execute_result"
    }
   ],
   "source": [
    "num_features_out"
   ]
  },
  {
   "cell_type": "code",
   "execution_count": null,
   "metadata": {
    "collapsed": true
   },
   "outputs": [],
   "source": []
  }
 ],
 "metadata": {
  "anaconda-cloud": {},
  "kernelspec": {
   "display_name": "Python [default]",
   "language": "python",
   "name": "python3"
  },
  "language_info": {
   "codemirror_mode": {
    "name": "ipython",
    "version": 3
   },
   "file_extension": ".py",
   "mimetype": "text/x-python",
   "name": "python",
   "nbconvert_exporter": "python",
   "pygments_lexer": "ipython3",
   "version": "3.5.2"
  }
 },
 "nbformat": 4,
 "nbformat_minor": 1
}
