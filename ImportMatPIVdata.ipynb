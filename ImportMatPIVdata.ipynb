{
 "cells": [
  {
   "cell_type": "code",
   "execution_count": 25,
   "metadata": {
    "collapsed": true
   },
   "outputs": [],
   "source": [
    "%matplotlib inline\n",
    "import matplotlib.pyplot as plt\n",
    "import numpy as np\n",
    "import h5py\n",
    "import PIVutils\n",
    "from importlib import reload\n",
    "\n",
    "saveFolder = './'"
   ]
  },
  {
   "cell_type": "code",
   "execution_count": 26,
   "metadata": {
    "collapsed": false
   },
   "outputs": [
    {
     "name": "stdout",
     "output_type": "stream",
     "text": [
      "['#refs#', 'AutoCorr', 'Cond', 'Corr', 'CorrT', 'Err', 'PercentMissing', 'Prof', 'Quad', 'Swirl', 'U', 'V', 'W', 'X', 'Y', 'source']\n"
     ]
    }
   ],
   "source": [
    "X, Y, U, V, Cond, Prof = PIVutils.importMatlabPIVdata('/Users/Owen/Dropbox/Data/ABL/SBL PIV data/RNV45-RI2.mat',['X','Y','U','V'],['Cond','Prof'])"
   ]
  },
  {
   "cell_type": "code",
   "execution_count": 28,
   "metadata": {
    "collapsed": false
   },
   "outputs": [],
   "source": [
    "f = h5py.File('/Users/Owen/Dropbox/Python Codes/ASIIT/Data/testSave3.hdf5','w')"
   ]
  },
  {
   "cell_type": "code",
   "execution_count": null,
   "metadata": {
    "collapsed": false
   },
   "outputs": [],
   "source": [
    "Uset = f.create_dataset(\"U\", data=U)"
   ]
  },
  {
   "cell_type": "code",
   "execution_count": null,
   "metadata": {
    "collapsed": false
   },
   "outputs": [],
   "source": [
    "Uset.dtype"
   ]
  },
  {
   "cell_type": "code",
   "execution_count": null,
   "metadata": {
    "collapsed": false
   },
   "outputs": [],
   "source": [
    "\"U\" in f"
   ]
  },
  {
   "cell_type": "code",
   "execution_count": null,
   "metadata": {
    "collapsed": true
   },
   "outputs": [],
   "source": [
    "f.close()"
   ]
  },
  {
   "cell_type": "code",
   "execution_count": 15,
   "metadata": {
    "collapsed": true
   },
   "outputs": [],
   "source": [
    "f = h5py.File('/Users/Owen/Dropbox/Python Codes/ASIIT/Data/testSave.hdf5','r')"
   ]
  },
  {
   "cell_type": "code",
   "execution_count": null,
   "metadata": {
    "collapsed": false
   },
   "outputs": [],
   "source": [
    "a = f.keys()"
   ]
  },
  {
   "cell_type": "code",
   "execution_count": null,
   "metadata": {
    "collapsed": false
   },
   "outputs": [],
   "source": [
    "list(f.keys())"
   ]
  },
  {
   "cell_type": "code",
   "execution_count": null,
   "metadata": {
    "collapsed": false
   },
   "outputs": [],
   "source": [
    "names = ['X','Y','V']\n",
    "data = [X,Y,V]"
   ]
  },
  {
   "cell_type": "code",
   "execution_count": null,
   "metadata": {
    "collapsed": false
   },
   "outputs": [],
   "source": [
    "range(len(names))"
   ]
  },
  {
   "cell_type": "code",
   "execution_count": null,
   "metadata": {
    "collapsed": false
   },
   "outputs": [],
   "source": [
    "for i in range(len(names)):\n",
    "    print(i)"
   ]
  },
  {
   "cell_type": "code",
   "execution_count": null,
   "metadata": {
    "collapsed": false,
    "scrolled": true
   },
   "outputs": [],
   "source": [
    "for i in range(len(names)):\n",
    "    f.create_dataset(names[i], data=data[i])"
   ]
  },
  {
   "cell_type": "code",
   "execution_count": null,
   "metadata": {
    "collapsed": true
   },
   "outputs": [],
   "source": [
    "f.close()"
   ]
  },
  {
   "cell_type": "code",
   "execution_count": 57,
   "metadata": {
    "collapsed": false
   },
   "outputs": [
    {
     "name": "stdout",
     "output_type": "stream",
     "text": [
      "Delete original file (default: no) [y/N] y\n",
      "Original file deleted\n",
      "File saved\n"
     ]
    }
   ],
   "source": [
    "reload(PIVutils)\n",
    "PIVutils.saveDataset('/Users/Owen/Dropbox/Python Codes/ASIIT/Data/testSave4.hdf5',\\\n",
    "                    ['X','Y','U','V'],[X,Y,U,V],\\\n",
    "                     ['Cond','Prof'],[Cond,Prof])\n"
   ]
  },
  {
   "cell_type": "code",
   "execution_count": null,
   "metadata": {
    "collapsed": false
   },
   "outputs": [],
   "source": [
    "f.close()"
   ]
  },
  {
   "cell_type": "code",
   "execution_count": 7,
   "metadata": {
    "collapsed": false
   },
   "outputs": [
    {
     "data": {
      "text/plain": [
       "dict_items([('dk', array([ 31.38018001])), ('L111', array([ 0.04891709])), ('ks', array([ 10.68830707])), ('Utau_PantonMax', array([ 0.0949339])), ('Retau_TotStress', array([ 748.62788899])), ('delstar', array([ 0.02438436])), ('Cf_PantonMax', array([ 0.00749185])), ('origin', array([ 0.0001])), ('Hama', array([-7.05])), ('Red', array([ 12714.77563644])), ('a', array([  8.06503645e-05])), ('kplus', array([ 25.07740805])), ('dt', array([ 0.000358])), ('nu', array([  1.55575887e-05])), ('isRough', array([ 1.])), ('isHeat', array([ 0.])), ('Retau', array([ 786.93357875])), ('dks', array([ 11.93164181])), ('Cf_TotStress', array([ 0.00693337])), ('Retheta', array([ 1514.28371385])), ('Utau_TotStress', array([ 0.09132699])), ('WakeFac', array([ 1.97213652])), ('Uinf', array([ 1.55110735])), ('Cf', array([ 0.00766106])), ('H', array([ 1.60547525])), ('theta', array([ 0.01518825])), ('rho', array([ 1.18216354])), ('dXplus', array([ 7.9626003])), ('yminHard', array([ 0.])), ('Tinf', array([ 298.3])), ('ymin', array([ 0.])), ('delta', array([ 0.12752905])), ('k', array([ 4.064])), ('Utau', array([ 0.096])), ('L122', array([ 0.01408296])), ('mu', array([  1.83916141e-05])), ('ksplus', array([ 65.95350341])), ('P', array([ 101207.54]))])"
      ]
     },
     "execution_count": 7,
     "metadata": {},
     "output_type": "execute_result"
    }
   ],
   "source": [
    "Cond.items()"
   ]
  },
  {
   "cell_type": "code",
   "execution_count": 11,
   "metadata": {
    "collapsed": true
   },
   "outputs": [],
   "source": [
    "a = list(Cond.items())"
   ]
  },
  {
   "cell_type": "code",
   "execution_count": 23,
   "metadata": {
    "collapsed": false
   },
   "outputs": [
    {
     "data": {
      "text/plain": [
       "'dk'"
      ]
     },
     "execution_count": 23,
     "metadata": {},
     "output_type": "execute_result"
    }
   ],
   "source": [
    "a[0][0]"
   ]
  },
  {
   "cell_type": "code",
   "execution_count": 18,
   "metadata": {
    "collapsed": false
   },
   "outputs": [
    {
     "data": {
      "text/plain": [
       "38"
      ]
     },
     "execution_count": 18,
     "metadata": {},
     "output_type": "execute_result"
    }
   ],
   "source": [
    "len(list(Cond.items()))"
   ]
  },
  {
   "cell_type": "code",
   "execution_count": 32,
   "metadata": {
    "collapsed": false
   },
   "outputs": [],
   "source": [
    "CondSet = f.create_group(\"Cond2\") #,(len(list(Cond.items())),)"
   ]
  },
  {
   "cell_type": "code",
   "execution_count": 33,
   "metadata": {
    "collapsed": false
   },
   "outputs": [],
   "source": [
    "for i in list(Cond.items()):\n",
    "    CondSet.create_dataset(i[0], data=i[1])\n",
    "    #h.create_dataset(i[0], data=i[1])"
   ]
  },
  {
   "cell_type": "code",
   "execution_count": 50,
   "metadata": {
    "collapsed": false
   },
   "outputs": [
    {
     "name": "stdout",
     "output_type": "stream",
     "text": [
      "[]\n"
     ]
    },
    {
     "ename": "KeyError",
     "evalue": "\"Unable to open object (Object 'x' doesn't exist)\"",
     "output_type": "error",
     "traceback": [
      "\u001b[0;31m---------------------------------------------------------------------------\u001b[0m",
      "\u001b[0;31mKeyError\u001b[0m                                  Traceback (most recent call last)",
      "\u001b[0;32m<ipython-input-50-c4b0bd122000>\u001b[0m in \u001b[0;36m<module>\u001b[0;34m()\u001b[0m\n\u001b[1;32m      1\u001b[0m \u001b[0mreload\u001b[0m\u001b[0;34m(\u001b[0m\u001b[0mPIVutils\u001b[0m\u001b[0;34m)\u001b[0m\u001b[0;34m\u001b[0m\u001b[0m\n\u001b[0;32m----> 2\u001b[0;31m \u001b[0mX\u001b[0m\u001b[0;34m,\u001b[0m \u001b[0mY\u001b[0m\u001b[0;34m,\u001b[0m \u001b[0mU\u001b[0m\u001b[0;34m,\u001b[0m \u001b[0mV\u001b[0m\u001b[0;34m,\u001b[0m \u001b[0mCond\u001b[0m\u001b[0;34m,\u001b[0m \u001b[0mProf\u001b[0m \u001b[0;34m=\u001b[0m \u001b[0mPIVutils\u001b[0m\u001b[0;34m.\u001b[0m\u001b[0mloadDataset\u001b[0m\u001b[0;34m(\u001b[0m\u001b[0;34m'/Users/Owen/Dropbox/Python Codes/ASIIT/Data/testSave4.hdf5'\u001b[0m\u001b[0;34m,\u001b[0m                                                      \u001b[0;34m[\u001b[0m\u001b[0;34m'X'\u001b[0m\u001b[0;34m,\u001b[0m\u001b[0;34m'Y'\u001b[0m\u001b[0;34m,\u001b[0m\u001b[0;34m'U'\u001b[0m\u001b[0;34m,\u001b[0m\u001b[0;34m'V'\u001b[0m\u001b[0;34m]\u001b[0m\u001b[0;34m,\u001b[0m\u001b[0;34m[\u001b[0m\u001b[0;34m'Cond'\u001b[0m\u001b[0;34m,\u001b[0m\u001b[0;34m'Prof'\u001b[0m\u001b[0;34m]\u001b[0m\u001b[0;34m)\u001b[0m\u001b[0;34m\u001b[0m\u001b[0m\n\u001b[0m",
      "\u001b[0;32m/Users/Owen/Dropbox/Python Codes/ASIIT/PIVutils.py\u001b[0m in \u001b[0;36mloadDataset\u001b[0;34m(path, mats, structs)\u001b[0m\n\u001b[1;32m     30\u001b[0m \u001b[0;34m\u001b[0m\u001b[0m\n\u001b[1;32m     31\u001b[0m     \u001b[0;32mfor\u001b[0m \u001b[0mi\u001b[0m \u001b[0;32min\u001b[0m \u001b[0mmats\u001b[0m\u001b[0;34m:\u001b[0m\u001b[0;34m\u001b[0m\u001b[0m\n\u001b[0;32m---> 32\u001b[0;31m         \u001b[0mTemp\u001b[0m \u001b[0;34m=\u001b[0m \u001b[0mnp\u001b[0m\u001b[0;34m.\u001b[0m\u001b[0masarray\u001b[0m\u001b[0;34m(\u001b[0m\u001b[0mf\u001b[0m\u001b[0;34m[\u001b[0m\u001b[0mi\u001b[0m\u001b[0;34m]\u001b[0m\u001b[0;34m)\u001b[0m\u001b[0;34m\u001b[0m\u001b[0m\n\u001b[0m\u001b[1;32m     33\u001b[0m         \u001b[0;32mif\u001b[0m \u001b[0mTemp\u001b[0m\u001b[0;34m.\u001b[0m\u001b[0mndim\u001b[0m \u001b[0;34m==\u001b[0m \u001b[0;36m2\u001b[0m\u001b[0;34m:\u001b[0m\u001b[0;34m\u001b[0m\u001b[0m\n\u001b[1;32m     34\u001b[0m             \u001b[0mTemp\u001b[0m \u001b[0;34m=\u001b[0m \u001b[0mnp\u001b[0m\u001b[0;34m.\u001b[0m\u001b[0mtranspose\u001b[0m\u001b[0;34m(\u001b[0m\u001b[0mTemp\u001b[0m\u001b[0;34m,\u001b[0m\u001b[0;34m(\u001b[0m\u001b[0;36m1\u001b[0m\u001b[0;34m,\u001b[0m\u001b[0;36m0\u001b[0m\u001b[0;34m)\u001b[0m\u001b[0;34m)\u001b[0m\u001b[0;34m\u001b[0m\u001b[0m\n",
      "\u001b[0;32mh5py/_objects.pyx\u001b[0m in \u001b[0;36mh5py._objects.with_phil.wrapper (/Users/ilan/minonda/conda-bld/work/h5py/_objects.c:2696)\u001b[0;34m()\u001b[0m\n",
      "\u001b[0;32mh5py/_objects.pyx\u001b[0m in \u001b[0;36mh5py._objects.with_phil.wrapper (/Users/ilan/minonda/conda-bld/work/h5py/_objects.c:2654)\u001b[0;34m()\u001b[0m\n",
      "\u001b[0;32m/Users/Owen/anaconda/lib/python3.5/site-packages/h5py/_hl/group.py\u001b[0m in \u001b[0;36m__getitem__\u001b[0;34m(self, name)\u001b[0m\n\u001b[1;32m    164\u001b[0m                 \u001b[0;32mraise\u001b[0m \u001b[0mValueError\u001b[0m\u001b[0;34m(\u001b[0m\u001b[0;34m\"Invalid HDF5 object reference\"\u001b[0m\u001b[0;34m)\u001b[0m\u001b[0;34m\u001b[0m\u001b[0m\n\u001b[1;32m    165\u001b[0m         \u001b[0;32melse\u001b[0m\u001b[0;34m:\u001b[0m\u001b[0;34m\u001b[0m\u001b[0m\n\u001b[0;32m--> 166\u001b[0;31m             \u001b[0moid\u001b[0m \u001b[0;34m=\u001b[0m \u001b[0mh5o\u001b[0m\u001b[0;34m.\u001b[0m\u001b[0mopen\u001b[0m\u001b[0;34m(\u001b[0m\u001b[0mself\u001b[0m\u001b[0;34m.\u001b[0m\u001b[0mid\u001b[0m\u001b[0;34m,\u001b[0m \u001b[0mself\u001b[0m\u001b[0;34m.\u001b[0m\u001b[0m_e\u001b[0m\u001b[0;34m(\u001b[0m\u001b[0mname\u001b[0m\u001b[0;34m)\u001b[0m\u001b[0;34m,\u001b[0m \u001b[0mlapl\u001b[0m\u001b[0;34m=\u001b[0m\u001b[0mself\u001b[0m\u001b[0;34m.\u001b[0m\u001b[0m_lapl\u001b[0m\u001b[0;34m)\u001b[0m\u001b[0;34m\u001b[0m\u001b[0m\n\u001b[0m\u001b[1;32m    167\u001b[0m \u001b[0;34m\u001b[0m\u001b[0m\n\u001b[1;32m    168\u001b[0m         \u001b[0motype\u001b[0m \u001b[0;34m=\u001b[0m \u001b[0mh5i\u001b[0m\u001b[0;34m.\u001b[0m\u001b[0mget_type\u001b[0m\u001b[0;34m(\u001b[0m\u001b[0moid\u001b[0m\u001b[0;34m)\u001b[0m\u001b[0;34m\u001b[0m\u001b[0m\n",
      "\u001b[0;32mh5py/_objects.pyx\u001b[0m in \u001b[0;36mh5py._objects.with_phil.wrapper (/Users/ilan/minonda/conda-bld/work/h5py/_objects.c:2696)\u001b[0;34m()\u001b[0m\n",
      "\u001b[0;32mh5py/_objects.pyx\u001b[0m in \u001b[0;36mh5py._objects.with_phil.wrapper (/Users/ilan/minonda/conda-bld/work/h5py/_objects.c:2654)\u001b[0;34m()\u001b[0m\n",
      "\u001b[0;32mh5py/h5o.pyx\u001b[0m in \u001b[0;36mh5py.h5o.open (/Users/ilan/minonda/conda-bld/work/h5py/h5o.c:3582)\u001b[0;34m()\u001b[0m\n",
      "\u001b[0;31mKeyError\u001b[0m: \"Unable to open object (Object 'x' doesn't exist)\""
     ]
    }
   ],
   "source": [
    "reload(PIVutils)\n",
    "X, Y, U, V, Cond, Prof = PIVutils.loadDataset('/Users/Owen/Dropbox/Python Codes/ASIIT/Data/testSave4.hdf5',\\\n",
    "                                                      ['X','Y','U','V'],['Cond','Prof'])"
   ]
  },
  {
   "cell_type": "code",
   "execution_count": 39,
   "metadata": {
    "collapsed": false
   },
   "outputs": [
    {
     "data": {
      "text/plain": [
       "{'Cf': 0.0076610579589133591,\n",
       " 'Cf_PantonMax': 0.0074918467973898051,\n",
       " 'Cf_TotStress': 0.006933373522790112,\n",
       " 'H': 1.6054752531196497,\n",
       " 'Hama': -7.0499999999999998,\n",
       " 'L111': 0.048917088904289918,\n",
       " 'L122': 0.01408295959529623,\n",
       " 'P': 101207.54000000001,\n",
       " 'Red': 12714.775636442091,\n",
       " 'Retau': 786.93357875137474,\n",
       " 'Retau_TotStress': 748.62788898952772,\n",
       " 'Retheta': 1514.2837138546236,\n",
       " 'Tinf': 298.29999999999995,\n",
       " 'Uinf': 1.5511073539843001,\n",
       " 'Utau': 0.096000000000000002,\n",
       " 'Utau_PantonMax': 0.094933895709910385,\n",
       " 'Utau_TotStress': 0.091326992879154884,\n",
       " 'WakeFac': 1.9721365198257796,\n",
       " 'a': 8.0650364539647717e-05,\n",
       " 'dXplus': 7.9626003043704197,\n",
       " 'delstar': 0.024384356322846527,\n",
       " 'delta': 0.12752905154228211,\n",
       " 'dk': 31.380180005482803,\n",
       " 'dks': 11.931641808817851,\n",
       " 'dt': 0.00035799999999999997,\n",
       " 'isHeat': 0.0,\n",
       " 'isRough': 1.0,\n",
       " 'k': 4.0640000000000001,\n",
       " 'kplus': 25.077408052276315,\n",
       " 'ks': 10.68830707338484,\n",
       " 'ksplus': 65.953503412230035,\n",
       " 'mu': 1.8391614107786999e-05,\n",
       " 'nu': 1.5557588694441888e-05,\n",
       " 'origin': 0.0001,\n",
       " 'rho': 1.1821635389009606,\n",
       " 'theta': 0.015188248012832658,\n",
       " 'ymin': 0.0,\n",
       " 'yminHard': 0.0}"
      ]
     },
     "execution_count": 39,
     "metadata": {},
     "output_type": "execute_result"
    }
   ],
   "source": [
    "Cond"
   ]
  },
  {
   "cell_type": "code",
   "execution_count": 48,
   "metadata": {
    "collapsed": false
   },
   "outputs": [],
   "source": [
    "import os\n",
    "file = '/Users/Owen/Dropbox/Python Codes/ASIIT/Data/testSave2.hdf5'\n",
    "if os.path.exists(file):\n",
    "    del(file)\n",
    "    print(\"Original file deleted\")"
   ]
  },
  {
   "cell_type": "code",
   "execution_count": 58,
   "metadata": {
    "collapsed": true
   },
   "outputs": [],
   "source": [
    "f = h5py.File('/Users/Owen/Dropbox/Python Codes/ASIIT/Data/RNV45-thumbs.hdf5','r')"
   ]
  },
  {
   "cell_type": "code",
   "execution_count": 60,
   "metadata": {
    "collapsed": false
   },
   "outputs": [
    {
     "data": {
      "text/plain": [
       "['Cond',\n",
       " 'Prof',\n",
       " 'S',\n",
       " 'Sr',\n",
       " 'ThumbParams',\n",
       " 'U',\n",
       " 'Ur',\n",
       " 'V',\n",
       " 'Vr',\n",
       " 'X',\n",
       " 'Y',\n",
       " 'Yind_Pro',\n",
       " 'Yind_Ret',\n",
       " 'missVecs',\n",
       " 'missVecs_Ret',\n",
       " 'x',\n",
       " 'y']"
      ]
     },
     "execution_count": 60,
     "metadata": {},
     "output_type": "execute_result"
    }
   ],
   "source": [
    "list(f.keys())"
   ]
  },
  {
   "cell_type": "code",
   "execution_count": 61,
   "metadata": {
    "collapsed": false
   },
   "outputs": [
    {
     "data": {
      "text/plain": [
       "['BoxSize',\n",
       " 'NoiseFilt',\n",
       " 'ThreshPro',\n",
       " 'ThreshRet',\n",
       " 'ThreshSTD',\n",
       " 'interpVecs',\n",
       " 'noEdge',\n",
       " 'num_features_Pro',\n",
       " 'num_features_Ret']"
      ]
     },
     "execution_count": 61,
     "metadata": {},
     "output_type": "execute_result"
    }
   ],
   "source": [
    "list(f['ThumbParams'].keys())"
   ]
  },
  {
   "cell_type": "code",
   "execution_count": 65,
   "metadata": {
    "collapsed": false
   },
   "outputs": [],
   "source": [
    "i = 'Cond'\n",
    "TempS = {k : f[i][k].value[0]       #Generate a dictionary linking all values in cond with their names\n",
    "    for k in f[i].keys()}"
   ]
  },
  {
   "cell_type": "code",
   "execution_count": 66,
   "metadata": {
    "collapsed": false
   },
   "outputs": [
    {
     "data": {
      "text/plain": [
       "{'Cf': 0.0076610579589133591,\n",
       " 'Cf_PantonMax': 0.0074918467973898051,\n",
       " 'Cf_TotStress': 0.006933373522790112,\n",
       " 'H': 1.6054752531196497,\n",
       " 'Hama': -7.0499999999999998,\n",
       " 'L111': 0.048917088904289918,\n",
       " 'L122': 0.01408295959529623,\n",
       " 'P': 101207.54000000001,\n",
       " 'Red': 12714.775636442091,\n",
       " 'Retau': 786.93357875137474,\n",
       " 'Retau_TotStress': 748.62788898952772,\n",
       " 'Retheta': 1514.2837138546236,\n",
       " 'Tinf': 298.29999999999995,\n",
       " 'Uinf': 1.5511073539843001,\n",
       " 'Utau': 0.096000000000000002,\n",
       " 'Utau_PantonMax': 0.094933895709910385,\n",
       " 'Utau_TotStress': 0.091326992879154884,\n",
       " 'WakeFac': 1.9721365198257796,\n",
       " 'a': 8.0650364539647717e-05,\n",
       " 'dXplus': 7.9626003043704197,\n",
       " 'delstar': 0.024384356322846527,\n",
       " 'delta': 0.12752905154228211,\n",
       " 'dk': 31.380180005482803,\n",
       " 'dks': 11.931641808817851,\n",
       " 'dt': 0.00035799999999999997,\n",
       " 'isHeat': 0.0,\n",
       " 'isRough': 1.0,\n",
       " 'k': 4.0640000000000001,\n",
       " 'kplus': 25.077408052276315,\n",
       " 'ks': 10.68830707338484,\n",
       " 'ksplus': 65.953503412230035,\n",
       " 'mu': 1.8391614107786999e-05,\n",
       " 'nu': 1.5557588694441888e-05,\n",
       " 'origin': 0.0001,\n",
       " 'rho': 1.1821635389009606,\n",
       " 'theta': 0.015188248012832658,\n",
       " 'ymin': 0.0,\n",
       " 'yminHard': 0.0}"
      ]
     },
     "execution_count": 66,
     "metadata": {},
     "output_type": "execute_result"
    }
   ],
   "source": [
    "Cond"
   ]
  },
  {
   "cell_type": "code",
   "execution_count": 67,
   "metadata": {
    "collapsed": false
   },
   "outputs": [
    {
     "data": {
      "text/plain": [
       "{'TotStress': 0.0065605701277112131,\n",
       " 'U': 0.45342252330851934,\n",
       " 'Udef': 11.434216986206049,\n",
       " 'Uplus': 4.7231512844637429,\n",
       " 'V': -0.0036935270827917047,\n",
       " 'Ydef': 0.019288046467070372,\n",
       " 'Yplus': 15.1784114334545,\n",
       " 'Ypos': 0.0023597862720489502,\n",
       " 'dUdy': 94.353155029355676,\n",
       " 'dUdy_fitPoly': 35.123678246180503,\n",
       " 'dUdy_fitPow': 113.38981643742413,\n",
       " 'u': 0.03088171972466552,\n",
       " 'uv': -0.0040817223267138446,\n",
       " 'v': 0.0035503651353636654}"
      ]
     },
     "execution_count": 67,
     "metadata": {},
     "output_type": "execute_result"
    }
   ],
   "source": [
    "Prof"
   ]
  },
  {
   "cell_type": "code",
   "execution_count": null,
   "metadata": {
    "collapsed": true
   },
   "outputs": [],
   "source": []
  }
 ],
 "metadata": {
  "anaconda-cloud": {},
  "kernelspec": {
   "display_name": "Python [conda root]",
   "language": "python",
   "name": "conda-root-py"
  },
  "language_info": {
   "codemirror_mode": {
    "name": "ipython",
    "version": 3
   },
   "file_extension": ".py",
   "mimetype": "text/x-python",
   "name": "python",
   "nbconvert_exporter": "python",
   "pygments_lexer": "ipython3",
   "version": "3.5.2"
  }
 },
 "nbformat": 4,
 "nbformat_minor": 1
}
