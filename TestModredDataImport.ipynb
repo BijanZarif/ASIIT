{
 "cells": [
  {
   "cell_type": "code",
   "execution_count": 5,
   "metadata": {
    "collapsed": true
   },
   "outputs": [],
   "source": [
    "from future.builtins import range\n",
    "import numpy as np\n",
    "import modred as mr\n"
   ]
  },
  {
   "cell_type": "code",
   "execution_count": 6,
   "metadata": {
    "collapsed": true
   },
   "outputs": [],
   "source": [
    "# Define the handles for the snapshots\n",
    "num_vecs = 30    \n",
    "direct_snapshots = [\n",
    "    mr.VecHandleArrayText('ModredTest/direct_vec%d.txt' % i) \n",
    "    for i in range(num_vecs)]\n",
    "adjoint_snapshots = [\n",
    "    mr.VecHandleArrayText('ModredTest/adjoint_vec%d.txt' % i)\n",
    "    for i in range(num_vecs)]\n",
    "\n"
   ]
  },
  {
   "cell_type": "code",
   "execution_count": 40,
   "metadata": {
    "collapsed": false
   },
   "outputs": [],
   "source": [
    "# Save arbitrary data in text files\n",
    "x = np.linspace(0, np.pi, 200)\n",
    "x = np.vstack((x,x))\n",
    "for i, snap in enumerate(direct_snapshots):\n",
    "    snap.put(np.sin(x*i))\n",
    "for i, snap in enumerate(adjoint_snapshots):\n",
    "    snap.put(np.cos(0.5*x*i))\n",
    "\n"
   ]
  },
  {
   "cell_type": "code",
   "execution_count": 42,
   "metadata": {
    "collapsed": false
   },
   "outputs": [
    {
     "data": {
      "text/plain": [
       "(2, 200)"
      ]
     },
     "execution_count": 42,
     "metadata": {},
     "output_type": "execute_result"
    }
   ],
   "source": [
    "np.sin(x*i).shape"
   ]
  },
  {
   "cell_type": "code",
   "execution_count": 44,
   "metadata": {
    "collapsed": false
   },
   "outputs": [],
   "source": [
    "for i, snap in enumerate(direct_snapshots):\n",
    "    a = snap.get()"
   ]
  },
  {
   "cell_type": "code",
   "execution_count": 46,
   "metadata": {
    "collapsed": false
   },
   "outputs": [
    {
     "data": {
      "text/plain": [
       "(2, 200)"
      ]
     },
     "execution_count": 46,
     "metadata": {},
     "output_type": "execute_result"
    }
   ],
   "source": [
    "a.shape"
   ]
  },
  {
   "cell_type": "code",
   "execution_count": 48,
   "metadata": {
    "collapsed": false
   },
   "outputs": [
    {
     "name": "stdout",
     "output_type": "stream",
     "text": [
      "Warning: The vecs, of which there are 30, will be retrieved 2 times each. Increase number of nodes or max_vecs_per_node to reduce redundant \"get\"s for a speedup.\n",
      "Computing the inner product matrix will take at least 0.0 minutes\n"
     ]
    },
    {
     "name": "stderr",
     "output_type": "stream",
     "text": [
      "Completed 96.4% of inner products\n",
      "Completed 100.0% of inner products\n"
     ]
    }
   ],
   "source": [
    "# Calculate and save POD modes\n",
    "my_POD = mr.PODHandles(np.vdot, max_vecs_per_node=30)\n",
    "modes, eig_vals = my_POD.compute_decomp(direct_snapshots)"
   ]
  },
  {
   "cell_type": "code",
   "execution_count": 18,
   "metadata": {
    "collapsed": false
   },
   "outputs": [
    {
     "ename": "SyntaxError",
     "evalue": "invalid syntax (<ipython-input-18-e7b10df8cdb6>, line 1)",
     "output_type": "error",
     "traceback": [
      "\u001b[0;36m  File \u001b[0;32m\"<ipython-input-18-e7b10df8cdb6>\"\u001b[0;36m, line \u001b[0;32m1\u001b[0m\n\u001b[0;31m    my_POD!\u001b[0m\n\u001b[0m          ^\u001b[0m\n\u001b[0;31mSyntaxError\u001b[0m\u001b[0;31m:\u001b[0m invalid syntax\n"
     ]
    }
   ],
   "source": []
  },
  {
   "cell_type": "code",
   "execution_count": null,
   "metadata": {
    "collapsed": true
   },
   "outputs": [],
   "source": []
  }
 ],
 "metadata": {
  "anaconda-cloud": {},
  "kernelspec": {
   "display_name": "Python [default]",
   "language": "python",
   "name": "python3"
  },
  "language_info": {
   "codemirror_mode": {
    "name": "ipython",
    "version": 3
   },
   "file_extension": ".py",
   "mimetype": "text/x-python",
   "name": "python",
   "nbconvert_exporter": "python",
   "pygments_lexer": "ipython3",
   "version": "3.5.2"
  }
 },
 "nbformat": 4,
 "nbformat_minor": 1
}
