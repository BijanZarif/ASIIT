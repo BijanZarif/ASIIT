{
 "cells": [
  {
   "cell_type": "code",
   "execution_count": 1,
   "metadata": {
    "collapsed": true
   },
   "outputs": [],
   "source": [
    "%matplotlib inline\n",
    "import matplotlib.pyplot as plt\n",
    "import numpy as np\n",
    "import h5py\n",
    "import modred as mr\n",
    "import numpy.matlib as ml\n",
    "import scipy.interpolate as interp"
   ]
  },
  {
   "cell_type": "code",
   "execution_count": 8,
   "metadata": {
    "collapsed": false
   },
   "outputs": [],
   "source": [
    "f = h5py.File('/Users/Owen/Dropbox/Data/ABL/SBL PIV data/RNV45-RI2.mat')\n",
    "#list(f.keys())\n",
    "\n",
    "#swirl = np.asarray(f['Swirl'])\n",
    "X  = np.asarray(f['X'])\n",
    "Y  = np.asarray(f['Y'])\n",
    "U  = np.asarray(f['U'])\n",
    "V  = np.asarray(f['V'])\n",
    "\n",
    "U = np.transpose(U,(2,1,0))\n",
    "V = np.transpose(V,(2,1,0))\n",
    "X = np.transpose(X,(1,0))\n",
    "Y = np.transpose(Y,(1,0))\n"
   ]
  },
  {
   "cell_type": "code",
   "execution_count": 9,
   "metadata": {
    "collapsed": false
   },
   "outputs": [
    {
     "data": {
      "text/plain": [
       "(123, 242, 750)"
      ]
     },
     "execution_count": 9,
     "metadata": {},
     "output_type": "execute_result"
    }
   ],
   "source": [
    "#Rearange data into correct shape (rows all the data for a single snapshot, columns each shapshot)\n",
    "uSize = U.shape\n",
    "uSize"
   ]
  },
  {
   "cell_type": "code",
   "execution_count": 10,
   "metadata": {
    "collapsed": false
   },
   "outputs": [],
   "source": [
    "#Do 2D interpolation to remove any NaNs or find locations of NaNs \n",
    "#for i in range(uSize[2]):\n",
    "#    U[:,:,i] = interp.interp2d(X, Y, U[:,:,i], kind='linear')\n",
    "\n",
    "#Find the locations of all NaNs\n",
    "NanLocs = np.isnan(U)\n",
    "#U[NanLocs] = 0\n",
    "    "
   ]
  },
  {
   "cell_type": "code",
   "execution_count": 11,
   "metadata": {
    "collapsed": false
   },
   "outputs": [],
   "source": [
    "#Calculate mean velocity profiles\n",
    "Umean = np.mean(np.nanmean(U,axis=2),axis = 1)\n",
    "Umean\n",
    "Umean.shape\n",
    "\n",
    "Umean = np.transpose(np.tile(Umean,(uSize[2],uSize[1],1)),(2,1,0))\n",
    "#Umean.shape\n",
    "\n",
    "#Subtract mean velocity profiles from velocity fields\n",
    "Uf = U - Umean;\n",
    "Vf = V; #<--Mean in vertical is aprox zero\n",
    "del Umean"
   ]
  },
  {
   "cell_type": "code",
   "execution_count": 13,
   "metadata": {
    "collapsed": true
   },
   "outputs": [],
   "source": [
    "#Set all NaNs to zero so that POD can run\n",
    "Uf[NanLocs] = 0\n",
    "Vf[NanLocs] = 0"
   ]
  },
  {
   "cell_type": "code",
   "execution_count": 106,
   "metadata": {
    "collapsed": false,
    "scrolled": true
   },
   "outputs": [
    {
     "data": {
      "text/plain": [
       "(100, 50)"
      ]
     },
     "execution_count": 106,
     "metadata": {},
     "output_type": "execute_result"
    }
   ],
   "source": [
    "# Test shape of matrix needed for POD function\n",
    "num_vecs = 50;  #<-- equivalent to the number of PIV snapshots (Also number of total POD modes)\n",
    "\n",
    "vecs = np.random.random((100, num_vecs))\n",
    "vecs.shape"
   ]
  },
  {
   "cell_type": "code",
   "execution_count": 14,
   "metadata": {
    "collapsed": false
   },
   "outputs": [
    {
     "data": {
      "text/plain": [
       "(59532, 750)"
      ]
     },
     "execution_count": 14,
     "metadata": {},
     "output_type": "execute_result"
    }
   ],
   "source": [
    "uAll = np.concatenate((Uf.reshape(uSize[0]*uSize[1],uSize[2]), Vf.reshape(uSize[0]*uSize[1],uSize[2])), axis = 0)\n",
    "uAll.shape      "
   ]
  },
  {
   "cell_type": "code",
   "execution_count": 15,
   "metadata": {
    "collapsed": false,
    "scrolled": true
   },
   "outputs": [],
   "source": [
    "num_modes = 50;\n",
    "modes, eig_vals = mr.compute_POD_matrices_snaps_method(uAll, list(range(num_modes)))"
   ]
  },
  {
   "cell_type": "code",
   "execution_count": 23,
   "metadata": {
    "collapsed": false
   },
   "outputs": [],
   "source": [
    "menergy = eig_vals/np.sum(eig_vals)"
   ]
  },
  {
   "cell_type": "code",
   "execution_count": 91,
   "metadata": {
    "collapsed": false
   },
   "outputs": [
    {
     "data": {
      "text/plain": [
       "(123, 242)"
      ]
     },
     "execution_count": 91,
     "metadata": {},
     "output_type": "execute_result"
    }
   ],
   "source": [
    "#Rearrange mode data to get mode fields\n",
    "modeSize = modes.shape\n",
    "Umodes = modes[0:uSize[0]*uSize[1],:];\n",
    "Vmodes = modes[uSize[0]*uSize[1]+1:modeSize[0]+1,:];\n",
    "Umodes.shape\n",
    "\n",
    "#for i in range(num_modes):\n",
    "i=1\n",
    "Umodes = np.reshape(Umodes[:,i],(uSize[0],uSize[1]))\n",
    "#Umodes = np.reshape(Umodes,(uSize[0],uSize[1],num_modes))\n",
    "Umodes.shape\n",
    "#uSize[0]*uSize[1]"
   ]
  },
  {
   "cell_type": "code",
   "execution_count": 100,
   "metadata": {
    "collapsed": false
   },
   "outputs": [
    {
     "data": {
      "text/plain": [
       "[0, 0.32066559195518496, 0, 0.15978917145729066]"
      ]
     },
     "execution_count": 100,
     "metadata": {},
     "output_type": "execute_result"
    },
    {
     "data": {
      "image/png": "[encoded data removed]",
      "text/plain": [
       "<matplotlib.figure.Figure at 0x11bbecb38>"
      ]
     },
     "metadata": {},
     "output_type": "display_data"
    }
   ],
   "source": [
    "plt.figure()\n",
    "plt.pcolor(X,Y,np.array(Umodes));\n",
    "#plt.clim([-50, 50])\n",
    "plt.axis('equal')\n",
    "plt.axis([0, X.max(), 0, Y.max()])"
   ]
  },
  {
   "cell_type": "markdown",
   "metadata": {},
   "source": [
    "fig, ax = plt.subplots()\n",
    "ax.bar(range(num_modes),menergy[1:num_modes]*100)"
   ]
  },
  {
   "cell_type": "code",
   "execution_count": 77,
   "metadata": {
    "collapsed": false
   },
   "outputs": [
    {
     "data": {
      "text/plain": [
       "(59532, 50)"
      ]
     },
     "execution_count": 77,
     "metadata": {},
     "output_type": "execute_result"
    }
   ],
   "source": [
    "modes.shape"
   ]
  },
  {
   "cell_type": "code",
   "execution_count": 80,
   "metadata": {
    "collapsed": false
   },
   "outputs": [
    {
     "data": {
      "text/plain": [
       "array([[[ 0,  1],\n",
       "        [ 2,  3],\n",
       "        [ 4,  5]],\n",
       "\n",
       "       [[ 6,  7],\n",
       "        [ 8,  9],\n",
       "        [10, 11]],\n",
       "\n",
       "       [[12, 13],\n",
       "        [14, 15],\n",
       "        [16, 17]]])"
      ]
     },
     "execution_count": 80,
     "metadata": {},
     "output_type": "execute_result"
    }
   ],
   "source": [
    "a = np.arange(18).reshape(9,2)\n",
    "b = a.reshape(3,3,2)\n",
    "b"
   ]
  }
 ],
 "metadata": {
  "anaconda-cloud": {},
  "kernelspec": {
   "display_name": "Python [default]",
   "language": "python",
   "name": "python3"
  },
  "language_info": {
   "codemirror_mode": {
    "name": "ipython",
    "version": 3
   },
   "file_extension": ".py",
   "mimetype": "text/x-python",
   "name": "python",
   "nbconvert_exporter": "python",
   "pygments_lexer": "ipython3",
   "version": "3.5.2"
  }
 },
 "nbformat": 4,
 "nbformat_minor": 1
}
