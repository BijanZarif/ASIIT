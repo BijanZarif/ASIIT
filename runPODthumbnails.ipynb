{
 "cells": [
  {
   "cell_type": "code",
   "execution_count": 1,
   "metadata": {
    "collapsed": true
   },
   "outputs": [],
   "source": [
    "%matplotlib inline\n",
    "import matplotlib.pyplot as plt\n",
    "import numpy as np\n",
    "import h5py\n",
    "from importlib import reload\n",
    "import PIVutils"
   ]
  },
  {
   "cell_type": "code",
   "execution_count": 76,
   "metadata": {
    "collapsed": true
   },
   "outputs": [],
   "source": [
    "#PIVutils = reload(PIVutils)\n",
    "X, Y, U, V, Swirl, Cond, Prof = PIVutils.importMatlabPIVdata2D('/Users/Owen/Dropbox/Data/ABL/SBL PIV data/RNV45-RI2.mat',['X','Y','U','V','Swirl'],['Cond','Prof'])"
   ]
  },
  {
   "cell_type": "code",
   "execution_count": 77,
   "metadata": {
    "collapsed": true
   },
   "outputs": [],
   "source": [
    "NanLocs = np.isnan(Swirl)\n",
    "uSize = Swirl.shape\n",
    "scale = (X[1,-1]-X[1,1])/(uSize[1]-1)"
   ]
  },
  {
   "cell_type": "markdown",
   "metadata": {},
   "source": [
    "# Normalize field by std"
   ]
  },
  {
   "cell_type": "code",
   "execution_count": 78,
   "metadata": {
    "collapsed": true
   },
   "outputs": [],
   "source": [
    "SwirlStd = np.std(np.nanmean(Swirl,axis=2),axis = 1)"
   ]
  },
  {
   "cell_type": "code",
   "execution_count": 79,
   "metadata": {
    "collapsed": true
   },
   "outputs": [],
   "source": [
    "#Normalize field by the std of Swirl\n",
    "SwirlNorm = Swirl/SwirlStd.reshape(uSize[0],1,1) #match the SwirlStd length (123) with the correct index in Swirl (also 123)"
   ]
  },
  {
   "cell_type": "markdown",
   "metadata": {},
   "source": [
    "# Create thresholded field"
   ]
  },
  {
   "cell_type": "code",
   "execution_count": 84,
   "metadata": {
    "collapsed": false
   },
   "outputs": [],
   "source": [
    "SwirlFilt = Swirl.copy()    #think this should completely copy the list, allowing me to try things\n",
    "\n",
    "#Swirl must be above a certain background value or it is zeroed\n",
    "SwirlFilt[np.absolute(SwirlFilt)<7] = 0\n",
    "\n",
    "#Then only keep those locations where swirls is greater than Thresh*SwirlStd\n",
    "ThreshSTD = 60\n",
    "SwirlFilt[np.absolute(SwirlNorm)<ThreshSTD] = 0"
   ]
  },
  {
   "cell_type": "markdown",
   "metadata": {},
   "source": [
    "# Find all blobs and filter for size\n"
   ]
  },
  {
   "cell_type": "code",
   "execution_count": 85,
   "metadata": {
    "collapsed": false
   },
   "outputs": [
    {
     "name": "stdout",
     "output_type": "stream",
     "text": [
      "There are  55342  features identified\n",
      "A total of  2638  are larger than the threshold size\n"
     ]
    }
   ],
   "source": [
    "PIVutils = reload(PIVutils)\n",
    "Thresh = 50\n",
    "[num_features,features_per_frame, labeled_array, cent] = PIVutils.findBlobs(SwirlFilt,50)"
   ]
  },
  {
   "cell_type": "code",
   "execution_count": 158,
   "metadata": {
    "collapsed": false
   },
   "outputs": [
    {
     "data": {
      "image/png": "[encoded data removed]",
      "text/plain": [
       "<matplotlib.figure.Figure at 0x148904f98>"
      ]
     },
     "metadata": {},
     "output_type": "display_data"
    }
   ],
   "source": [
    "reload(PIVutils)\n",
    "[f, ax] = PIVutils.plotScalarField(SwirlFilt[:,:,1],X,Y,10)\n",
    "\n",
    "for i in range(features_per_frame[1]):\n",
    "    plt.plot(cent[1][i][1]*scale+X[1,1],cent[1][i][0]*scale+Y[1,1],'oy',markersize=4,markeredgecolor=None)"
   ]
  },
  {
   "cell_type": "markdown",
   "metadata": {},
   "source": [
    "# Subtract mean profile or mean at centroid of swirl blob"
   ]
  },
  {
   "cell_type": "code",
   "execution_count": 88,
   "metadata": {
    "collapsed": false
   },
   "outputs": [],
   "source": [
    "#Calculate mean velocity profiles\n",
    "Umean = np.nanmean(np.nanmean(U,axis=2),axis = 1)\n",
    "Umean\n",
    "Umean.shape\n",
    "#print(Umean)\n",
    "\n",
    "Umean = np.transpose(np.tile(Umean,(uSize[2],uSize[1],1)),(2,1,0))\n",
    "#print(Umean.shape)\n",
    "\n",
    "#Subtract mean velocity profiles from velocity fields\n",
    "Uf = U - Umean;\n",
    "Vf = V; #<--Mean in vertical is aprox zero\n",
    "#Wf = W\n",
    "del Umean"
   ]
  },
  {
   "cell_type": "markdown",
   "metadata": {},
   "source": [
    "# Find all thumbnails"
   ]
  },
  {
   "cell_type": "code",
   "execution_count": 249,
   "metadata": {
    "collapsed": false
   },
   "outputs": [
    {
     "name": "stdout",
     "output_type": "stream",
     "text": [
      "(41, 41, 2638)\n"
     ]
    }
   ],
   "source": [
    "BoxSize = 20     #turns out to half size of final box (box is 21 per side of BoxSize = 10)\n",
    "\n",
    "Ut = np.zeros([2*BoxSize+1,2*BoxSize+1,num_features])    #initialize thumbnail matrices\n",
    "Ut[:] = np.NAN\n",
    "Vt = Ut.copy()\n",
    "St = Ut.copy()\n",
    "print(Ut.shape)\n"
   ]
  },
  {
   "cell_type": "code",
   "execution_count": 250,
   "metadata": {
    "collapsed": false
   },
   "outputs": [
    {
     "name": "stdout",
     "output_type": "stream",
     "text": [
      "(123, 242, 750)\n",
      "(163, 282, 750)\n"
     ]
    }
   ],
   "source": [
    "#pad out velocity fields so that there are NaNs around in all directions\n",
    "Uf2 = np.zeros([uSize[0]+2*BoxSize,uSize[1]+2*BoxSize,uSize[2]])    \n",
    "Uf2[:] = np.NAN\n",
    "Vf2 = Uf2.copy()\n",
    "Sf2 = Uf2.copy()\n",
    "\n",
    "print(Uf.shape)\n",
    "print(Uf2.shape)\n",
    "\n",
    "Uf2[BoxSize:-1*BoxSize,BoxSize:-1*BoxSize,:] = Uf.copy()\n",
    "Vf2[BoxSize:-1*BoxSize,BoxSize:-1*BoxSize,:] = Vf.copy()\n",
    "Sf2[BoxSize:-1*BoxSize,BoxSize:-1*BoxSize,:] = SwirlFilt.copy()"
   ]
  },
  {
   "cell_type": "code",
   "execution_count": 251,
   "metadata": {
    "collapsed": false,
    "scrolled": true
   },
   "outputs": [
    {
     "name": "stdout",
     "output_type": "stream",
     "text": [
      "range(0, 750)\n",
      "2638\n"
     ]
    }
   ],
   "source": [
    "print(range(len(cent)))\n",
    "print(np.sum(features_per_frame))"
   ]
  },
  {
   "cell_type": "code",
   "execution_count": 252,
   "metadata": {
    "collapsed": false
   },
   "outputs": [],
   "source": [
    "#Round all centroids to integers\n",
    "for i in range(len(cent)):\n",
    "    for j in range(len(cent[i])):\n",
    "        #print(i, j)\n",
    "        cent[i][j] = (int(round(cent[i][j][0])), int(round(cent[i][j][1])))"
   ]
  },
  {
   "cell_type": "code",
   "execution_count": 253,
   "metadata": {
    "collapsed": false
   },
   "outputs": [
    {
     "name": "stderr",
     "output_type": "stream",
     "text": [
      "/Users/Owen/anaconda/lib/python3.5/site-packages/matplotlib/colors.py:581: RuntimeWarning: invalid value encountered in less\n",
      "  cbook._putmask(xa, xa < 0.0, -1)\n"
     ]
    },
    {
     "data": {
      "image/png": "[encoded data removed]",
      "text/plain": [
       "<matplotlib.figure.Figure at 0x118cdc518>"
      ]
     },
     "metadata": {},
     "output_type": "display_data"
    }
   ],
   "source": [
    "# Just to check, plot the new masked matrix to ensure its what we think it is. \n",
    "reload(PIVutils)\n",
    "[f, ax] = PIVutils.plotScalarField(Sf2[:,:,0],bound=10)\n",
    "\n",
    "for i in range(features_per_frame[1]):\n",
    "    plt.plot(cent[0][i][1]+BoxSize,cent[0][i][0]+BoxSize,'oy',markersize=4,markeredgecolor=None)"
   ]
  },
  {
   "cell_type": "code",
   "execution_count": 254,
   "metadata": {
    "collapsed": false
   },
   "outputs": [],
   "source": [
    "thumb = 0\n",
    "for i in range(len(cent)):\n",
    "    for j in range(len(cent[i])):\n",
    "        \n",
    "        Ut[:,:,thumb] = Uf2[cent[i][j][0]:cent[i][j][0]+2*BoxSize+1,cent[i][j][1]:cent[i][j][1]+2*BoxSize+1,i]  \n",
    "        #print(cent[i][j][0])\n",
    "        Vt[:,:,thumb] = Vf2[cent[i][j][0]:cent[i][j][0]+2*BoxSize+1,cent[i][j][1]:cent[i][j][1]+2*BoxSize+1,i] \n",
    "        St[:,:,thumb] = Sf2[cent[i][j][0]:cent[i][j][0]+2*BoxSize+1,cent[i][j][1]:cent[i][j][1]+2*BoxSize+1,i]  \n",
    "        thumb+=1\n",
    "        #print(thumb)\n",
    "    "
   ]
  },
  {
   "cell_type": "code",
   "execution_count": 255,
   "metadata": {
    "collapsed": false
   },
   "outputs": [
    {
     "data": {
      "image/png": "[encoded data removed]",
      "text/plain": [
       "<matplotlib.figure.Figure at 0x11af48898>"
      ]
     },
     "metadata": {},
     "output_type": "display_data"
    }
   ],
   "source": [
    "[f, ax] = PIVutils.plotScalarField(St[:,:,0],bound=10)"
   ]
  },
  {
   "cell_type": "markdown",
   "metadata": {
    "collapsed": true
   },
   "source": [
    "BoxSize = 20\n",
    "\n",
    "Ut, Vt = getThumbnails(Uf,Vf,Sf,cent,BoxSize)"
   ]
  }
 ],
 "metadata": {
  "anaconda-cloud": {},
  "kernelspec": {
   "display_name": "Python [default]",
   "language": "python",
   "name": "python3"
  },
  "language_info": {
   "codemirror_mode": {
    "name": "ipython",
    "version": 3
   },
   "file_extension": ".py",
   "mimetype": "text/x-python",
   "name": "python",
   "nbconvert_exporter": "python",
   "pygments_lexer": "ipython3",
   "version": "3.5.2"
  }
 },
 "nbformat": 4,
 "nbformat_minor": 1
}
